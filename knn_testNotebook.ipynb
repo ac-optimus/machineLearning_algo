{
 "cells": [
  {
   "cell_type": "code",
   "execution_count": 143,
   "metadata": {},
   "outputs": [
    {
     "name": "stdout",
     "output_type": "stream",
     "text": [
      "The autoreload extension is already loaded. To reload it, use:\n",
      "  %reload_ext autoreload\n"
     ]
    }
   ],
   "source": [
    "%load_ext autoreload\n",
    "%autoreload 2\n",
    "import pandas as pd\n",
    "import numpy as np\n",
    "from sklearn.utils import shuffle\n",
    "from sklearn.neighbors import KNeighborsRegressor\n",
    "from sklearn.metrics import mean_squared_error\n",
    "import matplotlib.pyplot as plt\n",
    "\n",
    "from utils import dist_metic,feature_polynomial,prepareDatase\n",
    "from cross_validation import cross_validation\n",
    "from knn import KNN"
   ]
  },
  {
   "cell_type": "code",
   "execution_count": 144,
   "metadata": {},
   "outputs": [
    {
     "data": {
      "text/html": [
       "<div>\n",
       "<style>\n",
       "    .dataframe thead tr:only-child th {\n",
       "        text-align: right;\n",
       "    }\n",
       "\n",
       "    .dataframe thead th {\n",
       "        text-align: left;\n",
       "    }\n",
       "\n",
       "    .dataframe tbody tr th {\n",
       "        vertical-align: top;\n",
       "    }\n",
       "</style>\n",
       "<table border=\"1\" class=\"dataframe\">\n",
       "  <thead>\n",
       "    <tr style=\"text-align: right;\">\n",
       "      <th></th>\n",
       "      <th>x1</th>\n",
       "      <th>x2</th>\n",
       "      <th>x3</th>\n",
       "      <th>x4</th>\n",
       "      <th>x5</th>\n",
       "      <th>x6</th>\n",
       "      <th>x7</th>\n",
       "      <th>x8</th>\n",
       "      <th>x9</th>\n",
       "      <th>x10</th>\n",
       "      <th>...</th>\n",
       "      <th>x92</th>\n",
       "      <th>x93</th>\n",
       "      <th>x94</th>\n",
       "      <th>x95</th>\n",
       "      <th>x96</th>\n",
       "      <th>x97</th>\n",
       "      <th>x98</th>\n",
       "      <th>x99</th>\n",
       "      <th>x100</th>\n",
       "      <th>target</th>\n",
       "    </tr>\n",
       "  </thead>\n",
       "  <tbody>\n",
       "    <tr>\n",
       "      <th>0</th>\n",
       "      <td>-1.000000</td>\n",
       "      <td>1.000000</td>\n",
       "      <td>-1.000000</td>\n",
       "      <td>1.000000</td>\n",
       "      <td>-1.000000</td>\n",
       "      <td>1.000000</td>\n",
       "      <td>-1.000000</td>\n",
       "      <td>1.000000</td>\n",
       "      <td>-1.000000</td>\n",
       "      <td>1.000000</td>\n",
       "      <td>...</td>\n",
       "      <td>1.000000</td>\n",
       "      <td>-1.000000</td>\n",
       "      <td>1.000000</td>\n",
       "      <td>-1.000000</td>\n",
       "      <td>1.000000</td>\n",
       "      <td>-1.000000</td>\n",
       "      <td>1.000000</td>\n",
       "      <td>-1.000000</td>\n",
       "      <td>1.000000</td>\n",
       "      <td>0.000000</td>\n",
       "    </tr>\n",
       "    <tr>\n",
       "      <th>1</th>\n",
       "      <td>-0.979798</td>\n",
       "      <td>0.960004</td>\n",
       "      <td>-0.940610</td>\n",
       "      <td>0.921608</td>\n",
       "      <td>-0.902989</td>\n",
       "      <td>0.884747</td>\n",
       "      <td>-0.866874</td>\n",
       "      <td>0.849361</td>\n",
       "      <td>-0.832202</td>\n",
       "      <td>0.815390</td>\n",
       "      <td>...</td>\n",
       "      <td>0.152954</td>\n",
       "      <td>-0.149864</td>\n",
       "      <td>0.146837</td>\n",
       "      <td>-0.143870</td>\n",
       "      <td>0.140964</td>\n",
       "      <td>-0.138116</td>\n",
       "      <td>0.135326</td>\n",
       "      <td>-0.132592</td>\n",
       "      <td>0.129913</td>\n",
       "      <td>-0.353861</td>\n",
       "    </tr>\n",
       "    <tr>\n",
       "      <th>2</th>\n",
       "      <td>-0.959596</td>\n",
       "      <td>0.920824</td>\n",
       "      <td>-0.883619</td>\n",
       "      <td>0.847918</td>\n",
       "      <td>-0.813658</td>\n",
       "      <td>0.780783</td>\n",
       "      <td>-0.749236</td>\n",
       "      <td>0.718964</td>\n",
       "      <td>-0.689915</td>\n",
       "      <td>0.662040</td>\n",
       "      <td>...</td>\n",
       "      <td>0.022497</td>\n",
       "      <td>-0.021588</td>\n",
       "      <td>0.020716</td>\n",
       "      <td>-0.019879</td>\n",
       "      <td>0.019076</td>\n",
       "      <td>-0.018305</td>\n",
       "      <td>0.017566</td>\n",
       "      <td>-0.016856</td>\n",
       "      <td>0.016175</td>\n",
       "      <td>-0.407241</td>\n",
       "    </tr>\n",
       "    <tr>\n",
       "      <th>3</th>\n",
       "      <td>-0.939394</td>\n",
       "      <td>0.882461</td>\n",
       "      <td>-0.828978</td>\n",
       "      <td>0.778737</td>\n",
       "      <td>-0.731541</td>\n",
       "      <td>0.687205</td>\n",
       "      <td>-0.645557</td>\n",
       "      <td>0.606432</td>\n",
       "      <td>-0.569678</td>\n",
       "      <td>0.535152</td>\n",
       "      <td>...</td>\n",
       "      <td>0.003177</td>\n",
       "      <td>-0.002984</td>\n",
       "      <td>0.002803</td>\n",
       "      <td>-0.002634</td>\n",
       "      <td>0.002474</td>\n",
       "      <td>-0.002324</td>\n",
       "      <td>0.002183</td>\n",
       "      <td>-0.002051</td>\n",
       "      <td>0.001927</td>\n",
       "      <td>-0.411345</td>\n",
       "    </tr>\n",
       "    <tr>\n",
       "      <th>4</th>\n",
       "      <td>-0.919192</td>\n",
       "      <td>0.844914</td>\n",
       "      <td>-0.776638</td>\n",
       "      <td>0.713879</td>\n",
       "      <td>-0.656192</td>\n",
       "      <td>0.603166</td>\n",
       "      <td>-0.554426</td>\n",
       "      <td>0.509624</td>\n",
       "      <td>-0.468442</td>\n",
       "      <td>0.430588</td>\n",
       "      <td>...</td>\n",
       "      <td>0.000430</td>\n",
       "      <td>-0.000395</td>\n",
       "      <td>0.000363</td>\n",
       "      <td>-0.000334</td>\n",
       "      <td>0.000307</td>\n",
       "      <td>-0.000282</td>\n",
       "      <td>0.000259</td>\n",
       "      <td>-0.000238</td>\n",
       "      <td>0.000219</td>\n",
       "      <td>-0.409218</td>\n",
       "    </tr>\n",
       "  </tbody>\n",
       "</table>\n",
       "<p>5 rows × 101 columns</p>\n",
       "</div>"
      ],
      "text/plain": [
       "         x1        x2        x3        x4        x5        x6        x7  \\\n",
       "0 -1.000000  1.000000 -1.000000  1.000000 -1.000000  1.000000 -1.000000   \n",
       "1 -0.979798  0.960004 -0.940610  0.921608 -0.902989  0.884747 -0.866874   \n",
       "2 -0.959596  0.920824 -0.883619  0.847918 -0.813658  0.780783 -0.749236   \n",
       "3 -0.939394  0.882461 -0.828978  0.778737 -0.731541  0.687205 -0.645557   \n",
       "4 -0.919192  0.844914 -0.776638  0.713879 -0.656192  0.603166 -0.554426   \n",
       "\n",
       "         x8        x9       x10    ...          x92       x93       x94  \\\n",
       "0  1.000000 -1.000000  1.000000    ...     1.000000 -1.000000  1.000000   \n",
       "1  0.849361 -0.832202  0.815390    ...     0.152954 -0.149864  0.146837   \n",
       "2  0.718964 -0.689915  0.662040    ...     0.022497 -0.021588  0.020716   \n",
       "3  0.606432 -0.569678  0.535152    ...     0.003177 -0.002984  0.002803   \n",
       "4  0.509624 -0.468442  0.430588    ...     0.000430 -0.000395  0.000363   \n",
       "\n",
       "        x95       x96       x97       x98       x99      x100    target  \n",
       "0 -1.000000  1.000000 -1.000000  1.000000 -1.000000  1.000000  0.000000  \n",
       "1 -0.143870  0.140964 -0.138116  0.135326 -0.132592  0.129913 -0.353861  \n",
       "2 -0.019879  0.019076 -0.018305  0.017566 -0.016856  0.016175 -0.407241  \n",
       "3 -0.002634  0.002474 -0.002324  0.002183 -0.002051  0.001927 -0.411345  \n",
       "4 -0.000334  0.000307 -0.000282  0.000259 -0.000238  0.000219 -0.409218  \n",
       "\n",
       "[5 rows x 101 columns]"
      ]
     },
     "execution_count": 144,
     "metadata": {},
     "output_type": "execute_result"
    }
   ],
   "source": [
    "#random data generantion\n",
    "x = np.linspace(-1,1,100)\n",
    "#get k degree polynomial\n",
    "ExcessFeturdf = feature_polynomial(x,100)\n",
    "y = np.sin(ExcessFeturdf)\n",
    "df_ = ExcessFeturdf.copy()\n",
    "df_[\"target\"] = y.sum(axis=1)\n",
    "df_.head()"
   ]
  },
  {
   "cell_type": "code",
   "execution_count": 145,
   "metadata": {},
   "outputs": [],
   "source": [
    "import time\n",
    "my_knn = KNN(type_=\"Regression\",\\\n",
    "             K=5,distance_metric= \"no_numpy_euclidin\")\n",
    "runtm_ = {}\n",
    "start, end = 0,0\n",
    "for featrSet in range(1,len(ExcessFeturdf.columns)):\n",
    "    start = time.time()\n",
    "    my_knn.fit(ExcessFeturdf[ExcessFeturdf.columns[:featrSet]],\\\n",
    "              y[y.columns[:featrSet]])\n",
    "    my_knn.predict(ExcessFeturdf[ExcessFeturdf.columns[:featrSet]])\n",
    "    end = time.time()\n",
    "    runtm_[featrSet] = end - start"
   ]
  },
  {
   "cell_type": "code",
   "execution_count": 146,
   "metadata": {
    "scrolled": true
   },
   "outputs": [
    {
     "data": {
      "image/png": "[encoded data removed]",
      "text/plain": [
       "<matplotlib.figure.Figure at 0x7f24492bfb38>"
      ]
     },
     "metadata": {
      "needs_background": "light"
     },
     "output_type": "display_data"
    }
   ],
   "source": [
    "plt.plot(np.arange(len(ExcessFeturdf.columns)-1),list(runtm_.values()))\n",
    "plt.xlabel(\"Dimmension\")\n",
    "plt.ylabel(\"Runtime\")\n",
    "plt.title(\"Dimmension vs Runtime\");"
   ]
  },
  {
   "cell_type": "markdown",
   "metadata": {},
   "source": [
    "#### Runtime is proportional to the number of features,i.e. the number of dimmension."
   ]
  },
  {
   "cell_type": "code",
   "execution_count": 147,
   "metadata": {},
   "outputs": [],
   "source": [
    "#for train instances\n",
    "start_tm, end_tm = 0,0\n",
    "runtm  = {}\n",
    "for i in range(5,len(ExcessFeturdf)):\n",
    "    start_tm = time.time()\n",
    "    my_knn.fit(ExcessFeturdf.iloc[:i],y.iloc[:i])\n",
    "    my_knn.predict(ExcessFeturdf.iloc[:i])\n",
    "    end_tm = time.time()\n",
    "    runtm[i] = end_tm - start_tm"
   ]
  },
  {
   "cell_type": "code",
   "execution_count": 148,
   "metadata": {},
   "outputs": [
    {
     "data": {
      "image/png": "[encoded data removed]",
      "text/plain": [
       "<matplotlib.figure.Figure at 0x7f244922bcc0>"
      ]
     },
     "metadata": {
      "needs_background": "light"
     },
     "output_type": "display_data"
    }
   ],
   "source": [
    "plt.plot(np.arange(len(ExcessFeturdf)-5),runtm.values())\n",
    "plt.title(\"Test instances vs Runtime\")\n",
    "plt.xlabel(\"Test instances\")\n",
    "plt.ylabel(\"Runtime\");"
   ]
  },
  {
   "cell_type": "markdown",
   "metadata": {},
   "source": [
    "#### Runtime is proportional to the test instances that is the number of test points"
   ]
  },
  {
   "cell_type": "code",
   "execution_count": 149,
   "metadata": {},
   "outputs": [],
   "source": [
    "#see if you can get a beautifull 3d plot\n"
   ]
  },
  {
   "cell_type": "markdown",
   "metadata": {},
   "source": [
    "Empirically we get the complexity of KNN to be proportional to the length of test instances and the dimensionality of the features, ie. ***O(dn)***, where d is the dimension size and n is the number of test instances. \n",
    "The theoretical complexity of Kmean is ***O(knd)*** , which justifies our result."
   ]
  },
  {
   "cell_type": "markdown",
   "metadata": {},
   "source": [
    "### KNN  for the real estate price prediction regression problem."
   ]
  },
  {
   "cell_type": "code",
   "execution_count": 55,
   "metadata": {},
   "outputs": [],
   "source": [
    "x_train, y_train, x_test, y_test = \\\n",
    "    prepareDatase().get_train_test(\"realEstate.xlsx\",False,0.7,True)"
   ]
  },
  {
   "cell_type": "code",
   "execution_count": 94,
   "metadata": {},
   "outputs": [
    {
     "name": "stdout",
     "output_type": "stream",
     "text": [
      "RMSE error:  0.569957286055\n"
     ]
    }
   ],
   "source": [
    "#my knn\n",
    "my_knn = KNN(type_=\"Regression\",K=5,distance_metric=\"Cosine-Similarity\")\n",
    "my_knn.fit(x_train,y_train)\n",
    "y_hat = my_knn.predict(x_test.iloc[:40])\n",
    "print (\"RMSE error: \",my_knn.test_(y_hat,y_test.iloc[:40],eval_measure=\"RMSE\"))"
   ]
  },
  {
   "cell_type": "code",
   "execution_count": 57,
   "metadata": {},
   "outputs": [
    {
     "name": "stdout",
     "output_type": "stream",
     "text": [
      "RMSE error:  7.77941056893\n"
     ]
    }
   ],
   "source": [
    "#sklearn knn\n",
    "sk_knn = KNeighborsRegressor(n_neighbors=5)\n",
    "sk_knn.fit(x_train,y_train)\n",
    "y_hat = sk_knn.predict(x_test)\n",
    "print (\"RMSE error: \",np.sqrt(mean_squared_error(y_hat,y_test)))"
   ]
  },
  {
   "cell_type": "code",
   "execution_count": 72,
   "metadata": {},
   "outputs": [],
   "source": [
    "crossVal = cross_validation(sk_knn,[1,2,3,4,5,6,7,8,9,10])\n",
    "crossVal.optim_hyperparam(5,train);"
   ]
  },
  {
   "cell_type": "code",
   "execution_count": 73,
   "metadata": {},
   "outputs": [
    {
     "data": {
      "text/html": [
       "<div>\n",
       "<style>\n",
       "    .dataframe thead tr:only-child th {\n",
       "        text-align: right;\n",
       "    }\n",
       "\n",
       "    .dataframe thead th {\n",
       "        text-align: left;\n",
       "    }\n",
       "\n",
       "    .dataframe tbody tr th {\n",
       "        vertical-align: top;\n",
       "    }\n",
       "</style>\n",
       "<table border=\"1\" class=\"dataframe\">\n",
       "  <thead>\n",
       "    <tr style=\"text-align: right;\">\n",
       "      <th></th>\n",
       "      <th>K</th>\n",
       "      <th>Train</th>\n",
       "      <th>Validation</th>\n",
       "      <th>Test</th>\n",
       "    </tr>\n",
       "  </thead>\n",
       "  <tbody>\n",
       "    <tr>\n",
       "      <th>fold-1</th>\n",
       "      <td>9</td>\n",
       "      <td>0.033891</td>\n",
       "      <td>0.013459</td>\n",
       "      <td>0.033891</td>\n",
       "    </tr>\n",
       "    <tr>\n",
       "      <th>fold-2</th>\n",
       "      <td>4</td>\n",
       "      <td>0.027802</td>\n",
       "      <td>0.042218</td>\n",
       "      <td>0.027802</td>\n",
       "    </tr>\n",
       "    <tr>\n",
       "      <th>fold-3</th>\n",
       "      <td>4</td>\n",
       "      <td>0.030786</td>\n",
       "      <td>0.032582</td>\n",
       "      <td>0.030786</td>\n",
       "    </tr>\n",
       "    <tr>\n",
       "      <th>fold-4</th>\n",
       "      <td>9</td>\n",
       "      <td>0.035902</td>\n",
       "      <td>0.022037</td>\n",
       "      <td>0.035902</td>\n",
       "    </tr>\n",
       "    <tr>\n",
       "      <th>fold-5</th>\n",
       "      <td>1</td>\n",
       "      <td>0.004279</td>\n",
       "      <td>0.021004</td>\n",
       "      <td>0.004279</td>\n",
       "    </tr>\n",
       "  </tbody>\n",
       "</table>\n",
       "</div>"
      ],
      "text/plain": [
       "        K      Train  Validation      Test\n",
       "fold-1   9  0.033891    0.013459  0.033891\n",
       "fold-2   4  0.027802    0.042218  0.027802\n",
       "fold-3   4  0.030786    0.032582  0.030786\n",
       "fold-4   9  0.035902    0.022037  0.035902\n",
       "fold-5   1  0.004279    0.021004  0.004279"
      ]
     },
     "execution_count": 73,
     "metadata": {},
     "output_type": "execute_result"
    }
   ],
   "source": [
    "res = crossVal.report_scores(train,test,5)\n",
    "p = [[res[i][0]]+list(res[i][1]) for i in range(len(res))]\n",
    "pd.DataFrame(p,columns=[\"K \",\"Train\",\"Validation\",\"Test\"],\\\n",
    "             index=[\"fold-1\",\"fold-2\",\"fold-3\",\"fold-4\",\"fold-5\"])"
   ]
  },
  {
   "cell_type": "markdown",
   "metadata": {},
   "source": [
    "### Normalizing the data"
   ]
  },
  {
   "cell_type": "code",
   "execution_count": 62,
   "metadata": {},
   "outputs": [],
   "source": [
    "x_train, y_train, x_test, y_test = \\\n",
    "    prepareDatase().get_train_test(\"realEstate.xlsx\",True,0.7,True)"
   ]
  },
  {
   "cell_type": "code",
   "execution_count": 63,
   "metadata": {},
   "outputs": [
    {
     "name": "stdout",
     "output_type": "stream",
     "text": [
      "RMSE error:  0.569957286055\n"
     ]
    }
   ],
   "source": [
    "my_knn = KNN(type_=\"Regression\",K=5,distance_metric=\"Cosine-Similarity\")\n",
    "my_knn.fit(x_train,y_train)\n",
    "y_hat = my_knn.predict(x_test.iloc[:40])\n",
    "print (\"RMSE error: \",my_knn.test_(y_hat,y_test.iloc[:40],eval_measure=\"RMSE\"))"
   ]
  },
  {
   "cell_type": "code",
   "execution_count": 64,
   "metadata": {},
   "outputs": [
    {
     "name": "stdout",
     "output_type": "stream",
     "text": [
      "RMSE error:  0.0701742625186\n"
     ]
    }
   ],
   "source": [
    "#SKlearn knn\n",
    "sk_knn = KNeighborsRegressor(n_neighbors=5)\n",
    "sk_knn.fit(x_train,y_train)\n",
    "y_hat = sk_knn.predict(x_test)\n",
    "print (\"RMSE error: \",np.sqrt(mean_squared_error(y_hat,y_test)))"
   ]
  },
  {
   "cell_type": "markdown",
   "metadata": {},
   "source": [
    "#### Cross validation for to get the optimal k value"
   ]
  },
  {
   "cell_type": "code",
   "execution_count": 74,
   "metadata": {},
   "outputs": [],
   "source": [
    "train, test = prepareDatase().splitInto_test_train(fold0,2/3)\n",
    "crossVal = cross_validation(sk_knn,[1,2,3,4,5,6,7,8,9,10])\n",
    "crossVal.optim_hyperparam(5,train);"
   ]
  },
  {
   "cell_type": "code",
   "execution_count": 75,
   "metadata": {},
   "outputs": [
    {
     "data": {
      "text/html": [
       "<div>\n",
       "<style>\n",
       "    .dataframe thead tr:only-child th {\n",
       "        text-align: right;\n",
       "    }\n",
       "\n",
       "    .dataframe thead th {\n",
       "        text-align: left;\n",
       "    }\n",
       "\n",
       "    .dataframe tbody tr th {\n",
       "        vertical-align: top;\n",
       "    }\n",
       "</style>\n",
       "<table border=\"1\" class=\"dataframe\">\n",
       "  <thead>\n",
       "    <tr style=\"text-align: right;\">\n",
       "      <th></th>\n",
       "      <th>K</th>\n",
       "      <th>Train</th>\n",
       "      <th>Validation</th>\n",
       "      <th>Test</th>\n",
       "    </tr>\n",
       "  </thead>\n",
       "  <tbody>\n",
       "    <tr>\n",
       "      <th>fold-1</th>\n",
       "      <td>9</td>\n",
       "      <td>0.033891</td>\n",
       "      <td>0.013459</td>\n",
       "      <td>0.033891</td>\n",
       "    </tr>\n",
       "    <tr>\n",
       "      <th>fold-2</th>\n",
       "      <td>4</td>\n",
       "      <td>0.027802</td>\n",
       "      <td>0.042218</td>\n",
       "      <td>0.027802</td>\n",
       "    </tr>\n",
       "    <tr>\n",
       "      <th>fold-3</th>\n",
       "      <td>4</td>\n",
       "      <td>0.030786</td>\n",
       "      <td>0.032582</td>\n",
       "      <td>0.030786</td>\n",
       "    </tr>\n",
       "    <tr>\n",
       "      <th>fold-4</th>\n",
       "      <td>9</td>\n",
       "      <td>0.035902</td>\n",
       "      <td>0.022037</td>\n",
       "      <td>0.035902</td>\n",
       "    </tr>\n",
       "    <tr>\n",
       "      <th>fold-5</th>\n",
       "      <td>1</td>\n",
       "      <td>0.004279</td>\n",
       "      <td>0.021004</td>\n",
       "      <td>0.004279</td>\n",
       "    </tr>\n",
       "  </tbody>\n",
       "</table>\n",
       "</div>"
      ],
      "text/plain": [
       "        K      Train  Validation      Test\n",
       "fold-1   9  0.033891    0.013459  0.033891\n",
       "fold-2   4  0.027802    0.042218  0.027802\n",
       "fold-3   4  0.030786    0.032582  0.030786\n",
       "fold-4   9  0.035902    0.022037  0.035902\n",
       "fold-5   1  0.004279    0.021004  0.004279"
      ]
     },
     "execution_count": 75,
     "metadata": {},
     "output_type": "execute_result"
    }
   ],
   "source": [
    "res = crossVal.report_scores(train,test,5)\n",
    "p = [[res[i][0]]+list(res[i][1]) for i in range(len(res))]\n",
    "pd.DataFrame(p,columns=[\"K \",\"Train\",\"Validation\",\"Test\"],\\\n",
    "             index=[\"fold-1\",\"fold-2\",\"fold-3\",\"fold-4\",\"fold-5\"])"
   ]
  },
  {
   "cell_type": "markdown",
   "metadata": {},
   "source": [
    "The features are not on the same scale. Which means feature at different scale are given different importatnce depending on there scale used. This model becomes biased to the feature that has a values that vary on the larger scale. This add bias to our model. While when scale all the features to the same scale the importance given to each of the featue becomes the same. The biases towards some features reduces on normalization."
   ]
  },
  {
   "cell_type": "markdown",
   "metadata": {},
   "source": [
    "### Below Single fold (train on first 80% data and last 20% as test data) and plot train, test error as a function of K "
   ]
  },
  {
   "cell_type": "code",
   "execution_count": 85,
   "metadata": {},
   "outputs": [],
   "source": [
    "p = cross_validation() \n",
    "fold0 = p._splt_datst(5,df)[0]  #get the fold-0\n",
    "def plot_for_ks(test,train,k_lst):\n",
    "    my_knn = KNeighborsRegressor()\n",
    "    train_error= []\n",
    "    for i in k_values:\n",
    "        my_knn.n_neighbors = i\n",
    "        my_knn.fit(train[train.columns[:-1]],train[[train.columns[-1]]])\n",
    "        y_hat = my_knn.predict(test[test.columns[:-1]])\n",
    "        train_error.append(mean_squared_error(y_hat,test[test.columns[-1]]))\n",
    "    plt.scatter(np.arange(len(train_error)),train_error)\n",
    "    plt.xlabel(\"K\")"
   ]
  },
  {
   "cell_type": "code",
   "execution_count": 86,
   "metadata": {},
   "outputs": [],
   "source": [
    "train_, test_ = prepareDatase().splitInto_test_train(fold0,0.8)"
   ]
  },
  {
   "cell_type": "markdown",
   "metadata": {},
   "source": [
    "### Train error"
   ]
  },
  {
   "cell_type": "code",
   "execution_count": 87,
   "metadata": {},
   "outputs": [
    {
     "data": {
      "image/png": "[encoded data removed]",
      "text/plain": [
       "<matplotlib.figure.Figure at 0x7f2448c90978>"
      ]
     },
     "metadata": {
      "needs_background": "light"
     },
     "output_type": "display_data"
    }
   ],
   "source": [
    "plot_for_ks(train_,train_,k_values)\n",
    "plt.ylabel(\"RMSE\");\n",
    "plt.title(\"K vs RMSE on Train set of fold0\");"
   ]
  },
  {
   "cell_type": "markdown",
   "metadata": {},
   "source": [
    "The training curve increases monotonically. The reason is the  following: <br>\n",
    "- Inially the model just returns the value corresponing y for the current datapoint, but when we increas the value of k we deviate from the corresponding y. We are taking the mean of all the k neareset points. This lead to wrong prediciton of corresponding y( may not be the case if all y's are same)."
   ]
  },
  {
   "cell_type": "markdown",
   "metadata": {},
   "source": [
    "## Test Error"
   ]
  },
  {
   "cell_type": "code",
   "execution_count": 150,
   "metadata": {},
   "outputs": [
    {
     "data": {
      "image/png": "[encoded data removed]",
      "text/plain": [
       "<matplotlib.figure.Figure at 0x7f24493276d8>"
      ]
     },
     "metadata": {
      "needs_background": "light"
     },
     "output_type": "display_data"
    }
   ],
   "source": [
    "plot_for_ks(test_,train_,k_values)\n",
    "plt.ylabel(\"RMSE\")\n",
    "plt.title(\"K vs RMSE on Test set of fold0\");"
   ]
  },
  {
   "cell_type": "markdown",
   "metadata": {},
   "source": [
    "The rmse of  test dataset first decreases and then increases. The reason is following: <br>\n",
    "- The RMSE first decreases and then increases. The model is initially  ***overfitted*** and then at the minimum rmse it attains a model configuration where it can generalize well. After further increases in ***k*** the rmse monotonically increases which shows that the model is **underfitted** at higer value of ***k***."
   ]
  },
  {
   "cell_type": "code",
   "execution_count": 155,
   "metadata": {},
   "outputs": [
    {
     "data": {
      "image/png": "[encoded data removed]",
      "text/plain": [
       "<matplotlib.figure.Figure at 0x7f244927d978>"
      ]
     },
     "metadata": {
      "needs_background": "light"
     },
     "output_type": "display_data"
    }
   ],
   "source": [
    "max_error = 0\n",
    "interstPnt = 0\n",
    "rmse_lst = []\n",
    "model = KNeighborsRegressor()\n",
    "for i in range(len(test_)):\n",
    "    model.fit(test_[test_.columns[:-1]],\\\n",
    "              test_[test_.columns[-1]])\n",
    "    y_hat = model.predict(test_[test_.columns[:-1]].iloc[i:i+1])\n",
    "    rmse = np.sqrt(mean_squared_error(y_hat,\\\n",
    "                                test_[test_.columns[-1]].iloc[i:i+1]))\n",
    "    rmse_lst.append(rmse)\n",
    "    if rmse > max_error:\n",
    "        max_error = rmse\n",
    "        interstPnt = i\n",
    "plt.scatter(np.arange(len(rmse_lst)),rmse_lst);"
   ]
  },
  {
   "cell_type": "code",
   "execution_count": 156,
   "metadata": {
    "scrolled": true
   },
   "outputs": [
    {
     "data": {
      "text/html": [
       "<div>\n",
       "<style>\n",
       "    .dataframe thead tr:only-child th {\n",
       "        text-align: right;\n",
       "    }\n",
       "\n",
       "    .dataframe thead th {\n",
       "        text-align: left;\n",
       "    }\n",
       "\n",
       "    .dataframe tbody tr th {\n",
       "        vertical-align: top;\n",
       "    }\n",
       "</style>\n",
       "<table border=\"1\" class=\"dataframe\">\n",
       "  <thead>\n",
       "    <tr style=\"text-align: right;\">\n",
       "      <th></th>\n",
       "      <th>sepal length (cm)</th>\n",
       "      <th>sepal width (cm)</th>\n",
       "      <th>target</th>\n",
       "    </tr>\n",
       "  </thead>\n",
       "  <tbody>\n",
       "    <tr>\n",
       "      <th>0</th>\n",
       "      <td>5.1</td>\n",
       "      <td>3.5</td>\n",
       "      <td>0.0</td>\n",
       "    </tr>\n",
       "    <tr>\n",
       "      <th>1</th>\n",
       "      <td>4.9</td>\n",
       "      <td>3.0</td>\n",
       "      <td>0.0</td>\n",
       "    </tr>\n",
       "    <tr>\n",
       "      <th>2</th>\n",
       "      <td>4.7</td>\n",
       "      <td>3.2</td>\n",
       "      <td>0.0</td>\n",
       "    </tr>\n",
       "    <tr>\n",
       "      <th>3</th>\n",
       "      <td>4.6</td>\n",
       "      <td>3.1</td>\n",
       "      <td>0.0</td>\n",
       "    </tr>\n",
       "    <tr>\n",
       "      <th>4</th>\n",
       "      <td>5.0</td>\n",
       "      <td>3.6</td>\n",
       "      <td>0.0</td>\n",
       "    </tr>\n",
       "  </tbody>\n",
       "</table>\n",
       "</div>"
      ],
      "text/plain": [
       "   sepal length (cm)  sepal width (cm)  target\n",
       "0                5.1               3.5     0.0\n",
       "1                4.9               3.0     0.0\n",
       "2                4.7               3.2     0.0\n",
       "3                4.6               3.1     0.0\n",
       "4                5.0               3.6     0.0"
      ]
     },
     "execution_count": 156,
     "metadata": {},
     "output_type": "execute_result"
    }
   ],
   "source": [
    "import numpy as np\n",
    "import pandas as pd\n",
    "from sklearn.datasets import load_iris\n",
    "\n",
    "iris = load_iris()\n",
    "\n",
    "data1 = pd.DataFrame(data= np.c_[iris['data'], iris['target']],\n",
    "                     columns= iris['feature_names'] + ['target'])\n",
    "p = list(data1.columns[:2])\n",
    "p.append(data1.columns[-1])\n",
    "data1[p].head()\n",
    "#https://stackoverflow.com/questions/38105539/how-to-convert-a-scikit-learn-dataset-to-a-pandas-dataset"
   ]
  },
  {
   "cell_type": "code",
   "execution_count": 157,
   "metadata": {},
   "outputs": [],
   "source": [
    "from scipy.spatial import Voronoi, voronoi_plot_2d\n",
    "vor = Voronoi(np.matrix(data1[data1.columns[:2]]))"
   ]
  },
  {
   "cell_type": "code",
   "execution_count": 158,
   "metadata": {
    "scrolled": true
   },
   "outputs": [
    {
     "data": {
      "image/png": "[encoded data removed]",
      "text/plain": [
       "<matplotlib.figure.Figure at 0x7f2448686400>"
      ]
     },
     "metadata": {
      "needs_background": "light"
     },
     "output_type": "display_data"
    }
   ],
   "source": [
    "voronoi_plot_2d(vor);\n",
    "plt.xlabel(\"sepal length (cm)\")\n",
    "plt.ylabel(\"sepal width (cm)\");"
   ]
  }
 ],
 "metadata": {
  "kernelspec": {
   "display_name": "Python 3",
   "language": "python",
   "name": "python3"
  },
  "language_info": {
   "codemirror_mode": {
    "name": "ipython",
    "version": 3
   },
   "file_extension": ".py",
   "mimetype": "text/x-python",
   "name": "python",
   "nbconvert_exporter": "python",
   "pygments_lexer": "ipython3",
   "version": "3.6.7"
  }
 },
 "nbformat": 4,
 "nbformat_minor": 2
}
