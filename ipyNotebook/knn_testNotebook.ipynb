{
 "cells": [
  {
   "cell_type": "code",
   "execution_count": 30,
   "metadata": {},
   "outputs": [
    {
     "name": "stdout",
     "output_type": "stream",
     "text": [
      "The autoreload extension is already loaded. To reload it, use:\n",
      "  %reload_ext autoreload\n"
     ]
    }
   ],
   "source": [
    "%load_ext autoreload\n",
    "%autoreload 2\n",
    "import sys\n",
    "sys.path.append(\"..\")\n",
    "sys.path.append(\"../my_implmnt\")\n",
    "import time\n",
    "import pandas as pd\n",
    "import numpy as np\n",
    "from sklearn.utils import shuffle\n",
    "from sklearn.neighbors import KNeighborsRegressor\n",
    "from sklearn.metrics import mean_squared_error\n",
    "import matplotlib.pyplot as plt\n",
    "\n",
    "from utils import dist_metic,feature_polynomial,prepareDatase\n",
    "from cross_validation import cross_validation\n",
    "from knn import KNN"
   ]
  },
  {
   "cell_type": "markdown",
   "metadata": {},
   "source": [
    "Random dataset (k degree polynomial) generation"
   ]
  },
  {
   "cell_type": "code",
   "execution_count": 31,
   "metadata": {},
   "outputs": [
    {
     "data": {
      "text/html": [
       "<div>\n",
       "<style>\n",
       "    .dataframe thead tr:only-child th {\n",
       "        text-align: right;\n",
       "    }\n",
       "\n",
       "    .dataframe thead th {\n",
       "        text-align: left;\n",
       "    }\n",
       "\n",
       "    .dataframe tbody tr th {\n",
       "        vertical-align: top;\n",
       "    }\n",
       "</style>\n",
       "<table border=\"1\" class=\"dataframe\">\n",
       "  <thead>\n",
       "    <tr style=\"text-align: right;\">\n",
       "      <th></th>\n",
       "      <th>x1</th>\n",
       "      <th>x2</th>\n",
       "      <th>x3</th>\n",
       "      <th>x4</th>\n",
       "      <th>x5</th>\n",
       "      <th>x6</th>\n",
       "      <th>x7</th>\n",
       "      <th>x8</th>\n",
       "      <th>x9</th>\n",
       "      <th>x10</th>\n",
       "      <th>...</th>\n",
       "      <th>x92</th>\n",
       "      <th>x93</th>\n",
       "      <th>x94</th>\n",
       "      <th>x95</th>\n",
       "      <th>x96</th>\n",
       "      <th>x97</th>\n",
       "      <th>x98</th>\n",
       "      <th>x99</th>\n",
       "      <th>x100</th>\n",
       "      <th>target</th>\n",
       "    </tr>\n",
       "  </thead>\n",
       "  <tbody>\n",
       "    <tr>\n",
       "      <th>0</th>\n",
       "      <td>-1.000000</td>\n",
       "      <td>1.000000</td>\n",
       "      <td>-1.000000</td>\n",
       "      <td>1.000000</td>\n",
       "      <td>-1.000000</td>\n",
       "      <td>1.000000</td>\n",
       "      <td>-1.000000</td>\n",
       "      <td>1.000000</td>\n",
       "      <td>-1.000000</td>\n",
       "      <td>1.000000</td>\n",
       "      <td>...</td>\n",
       "      <td>1.000000</td>\n",
       "      <td>-1.000000</td>\n",
       "      <td>1.000000</td>\n",
       "      <td>-1.000000</td>\n",
       "      <td>1.000000</td>\n",
       "      <td>-1.000000</td>\n",
       "      <td>1.000000</td>\n",
       "      <td>-1.000000</td>\n",
       "      <td>1.000000</td>\n",
       "      <td>0.000000</td>\n",
       "    </tr>\n",
       "    <tr>\n",
       "      <th>1</th>\n",
       "      <td>-0.979798</td>\n",
       "      <td>0.960004</td>\n",
       "      <td>-0.940610</td>\n",
       "      <td>0.921608</td>\n",
       "      <td>-0.902989</td>\n",
       "      <td>0.884747</td>\n",
       "      <td>-0.866874</td>\n",
       "      <td>0.849361</td>\n",
       "      <td>-0.832202</td>\n",
       "      <td>0.815390</td>\n",
       "      <td>...</td>\n",
       "      <td>0.152954</td>\n",
       "      <td>-0.149864</td>\n",
       "      <td>0.146837</td>\n",
       "      <td>-0.143870</td>\n",
       "      <td>0.140964</td>\n",
       "      <td>-0.138116</td>\n",
       "      <td>0.135326</td>\n",
       "      <td>-0.132592</td>\n",
       "      <td>0.129913</td>\n",
       "      <td>-0.353861</td>\n",
       "    </tr>\n",
       "    <tr>\n",
       "      <th>2</th>\n",
       "      <td>-0.959596</td>\n",
       "      <td>0.920824</td>\n",
       "      <td>-0.883619</td>\n",
       "      <td>0.847918</td>\n",
       "      <td>-0.813658</td>\n",
       "      <td>0.780783</td>\n",
       "      <td>-0.749236</td>\n",
       "      <td>0.718964</td>\n",
       "      <td>-0.689915</td>\n",
       "      <td>0.662040</td>\n",
       "      <td>...</td>\n",
       "      <td>0.022497</td>\n",
       "      <td>-0.021588</td>\n",
       "      <td>0.020716</td>\n",
       "      <td>-0.019879</td>\n",
       "      <td>0.019076</td>\n",
       "      <td>-0.018305</td>\n",
       "      <td>0.017566</td>\n",
       "      <td>-0.016856</td>\n",
       "      <td>0.016175</td>\n",
       "      <td>-0.407241</td>\n",
       "    </tr>\n",
       "    <tr>\n",
       "      <th>3</th>\n",
       "      <td>-0.939394</td>\n",
       "      <td>0.882461</td>\n",
       "      <td>-0.828978</td>\n",
       "      <td>0.778737</td>\n",
       "      <td>-0.731541</td>\n",
       "      <td>0.687205</td>\n",
       "      <td>-0.645557</td>\n",
       "      <td>0.606432</td>\n",
       "      <td>-0.569678</td>\n",
       "      <td>0.535152</td>\n",
       "      <td>...</td>\n",
       "      <td>0.003177</td>\n",
       "      <td>-0.002984</td>\n",
       "      <td>0.002803</td>\n",
       "      <td>-0.002634</td>\n",
       "      <td>0.002474</td>\n",
       "      <td>-0.002324</td>\n",
       "      <td>0.002183</td>\n",
       "      <td>-0.002051</td>\n",
       "      <td>0.001927</td>\n",
       "      <td>-0.411345</td>\n",
       "    </tr>\n",
       "    <tr>\n",
       "      <th>4</th>\n",
       "      <td>-0.919192</td>\n",
       "      <td>0.844914</td>\n",
       "      <td>-0.776638</td>\n",
       "      <td>0.713879</td>\n",
       "      <td>-0.656192</td>\n",
       "      <td>0.603166</td>\n",
       "      <td>-0.554426</td>\n",
       "      <td>0.509624</td>\n",
       "      <td>-0.468442</td>\n",
       "      <td>0.430588</td>\n",
       "      <td>...</td>\n",
       "      <td>0.000430</td>\n",
       "      <td>-0.000395</td>\n",
       "      <td>0.000363</td>\n",
       "      <td>-0.000334</td>\n",
       "      <td>0.000307</td>\n",
       "      <td>-0.000282</td>\n",
       "      <td>0.000259</td>\n",
       "      <td>-0.000238</td>\n",
       "      <td>0.000219</td>\n",
       "      <td>-0.409218</td>\n",
       "    </tr>\n",
       "  </tbody>\n",
       "</table>\n",
       "<p>5 rows × 101 columns</p>\n",
       "</div>"
      ],
      "text/plain": [
       "         x1        x2        x3        x4        x5        x6        x7  \\\n",
       "0 -1.000000  1.000000 -1.000000  1.000000 -1.000000  1.000000 -1.000000   \n",
       "1 -0.979798  0.960004 -0.940610  0.921608 -0.902989  0.884747 -0.866874   \n",
       "2 -0.959596  0.920824 -0.883619  0.847918 -0.813658  0.780783 -0.749236   \n",
       "3 -0.939394  0.882461 -0.828978  0.778737 -0.731541  0.687205 -0.645557   \n",
       "4 -0.919192  0.844914 -0.776638  0.713879 -0.656192  0.603166 -0.554426   \n",
       "\n",
       "         x8        x9       x10    ...          x92       x93       x94  \\\n",
       "0  1.000000 -1.000000  1.000000    ...     1.000000 -1.000000  1.000000   \n",
       "1  0.849361 -0.832202  0.815390    ...     0.152954 -0.149864  0.146837   \n",
       "2  0.718964 -0.689915  0.662040    ...     0.022497 -0.021588  0.020716   \n",
       "3  0.606432 -0.569678  0.535152    ...     0.003177 -0.002984  0.002803   \n",
       "4  0.509624 -0.468442  0.430588    ...     0.000430 -0.000395  0.000363   \n",
       "\n",
       "        x95       x96       x97       x98       x99      x100    target  \n",
       "0 -1.000000  1.000000 -1.000000  1.000000 -1.000000  1.000000  0.000000  \n",
       "1 -0.143870  0.140964 -0.138116  0.135326 -0.132592  0.129913 -0.353861  \n",
       "2 -0.019879  0.019076 -0.018305  0.017566 -0.016856  0.016175 -0.407241  \n",
       "3 -0.002634  0.002474 -0.002324  0.002183 -0.002051  0.001927 -0.411345  \n",
       "4 -0.000334  0.000307 -0.000282  0.000259 -0.000238  0.000219 -0.409218  \n",
       "\n",
       "[5 rows x 101 columns]"
      ]
     },
     "execution_count": 31,
     "metadata": {},
     "output_type": "execute_result"
    }
   ],
   "source": [
    "#random data generantion\n",
    "x = np.linspace(-1,1,100)\n",
    "#get k degree polynomial\n",
    "ExcessFeturdf = feature_polynomial(x,100)\n",
    "y = np.sin(ExcessFeturdf)\n",
    "df_ = ExcessFeturdf.copy()\n",
    "df_[\"target\"] = y.sum(axis=1)\n",
    "df_.head()"
   ]
  },
  {
   "cell_type": "code",
   "execution_count": 32,
   "metadata": {},
   "outputs": [],
   "source": [
    "my_knn = KNN(type_=\"Regression\",\\\n",
    "             K=5,distance_metric= \"no_numpy_euclidin\")\n",
    "runtm_ = {}\n",
    "start, end = 0,0\n",
    "for featrSet in range(1,len(ExcessFeturdf.columns)):\n",
    "    start = time.time()\n",
    "    my_knn.fit(ExcessFeturdf[ExcessFeturdf.columns[:featrSet]],\\\n",
    "              y[y.columns[:featrSet]])\n",
    "    my_knn.predict(ExcessFeturdf[ExcessFeturdf.columns[:featrSet]])\n",
    "    end = time.time()\n",
    "    runtm_[featrSet] = end - start"
   ]
  },
  {
   "cell_type": "code",
   "execution_count": 33,
   "metadata": {
    "scrolled": true
   },
   "outputs": [
    {
     "data": {
      "image/png": "[encoded data removed]",
      "text/plain": [
       "<matplotlib.figure.Figure at 0x7f3c141c4b38>"
      ]
     },
     "metadata": {
      "needs_background": "light"
     },
     "output_type": "display_data"
    }
   ],
   "source": [
    "plt.plot(np.arange(len(ExcessFeturdf.columns)-1),list(runtm_.values()))\n",
    "plt.xlabel(\"Dimmension\")\n",
    "plt.ylabel(\"Runtime\")\n",
    "plt.title(\"Dimmension vs Runtime\");"
   ]
  },
  {
   "cell_type": "markdown",
   "metadata": {},
   "source": [
    "#### Runtime is proportional to the number of features,i.e. the number of dimmension."
   ]
  },
  {
   "cell_type": "code",
   "execution_count": 34,
   "metadata": {},
   "outputs": [],
   "source": [
    "#for train instances\n",
    "start_tm, end_tm = 0,0\n",
    "runtm  = {}\n",
    "for i in range(5,len(ExcessFeturdf)):\n",
    "    start_tm = time.time()\n",
    "    my_knn.fit(ExcessFeturdf.iloc[:i],y.iloc[:i])\n",
    "    my_knn.predict(ExcessFeturdf.iloc[:i])\n",
    "    end_tm = time.time()\n",
    "    runtm[i] = end_tm - start_tm"
   ]
  },
  {
   "cell_type": "code",
   "execution_count": 35,
   "metadata": {
    "scrolled": false
   },
   "outputs": [
    {
     "data": {
      "image/png": "[encoded data removed]",
      "text/plain": [
       "<matplotlib.figure.Figure at 0x7f3c14179e48>"
      ]
     },
     "metadata": {
      "needs_background": "light"
     },
     "output_type": "display_data"
    }
   ],
   "source": [
    "plt.plot(np.arange(len(ExcessFeturdf)-5),runtm.values())\n",
    "plt.title(\"Test instances vs Runtime\")\n",
    "plt.xlabel(\"Test instances\")\n",
    "plt.ylabel(\"Runtime\");"
   ]
  },
  {
   "cell_type": "markdown",
   "metadata": {},
   "source": [
    "#### Runtime is proportional to the test instances that is the number of test points"
   ]
  },
  {
   "cell_type": "markdown",
   "metadata": {},
   "source": [
    "Empirically we get the complexity of KNN to be proportional to the length of test instances and the dimensionality of the features, ie. ***O(dn)***, where d is the dimension size and n is the number of test instances. \n",
    "The theoretical complexity of Kmean is ***O(knd)*** , which justifies our result."
   ]
  },
  {
   "cell_type": "markdown",
   "metadata": {},
   "source": [
    "### KNN  for the real estate price prediction regression problem."
   ]
  },
  {
   "cell_type": "markdown",
   "metadata": {},
   "source": [
    "#### Cross validation to get the optimal k value"
   ]
  },
  {
   "cell_type": "code",
   "execution_count": 36,
   "metadata": {},
   "outputs": [],
   "source": [
    "x_train, y_train, x_test, y_test = \\\n",
    "    prepareDatase().get_train_test(\"../dataset/realEstate.csv\",False,0.7,True)"
   ]
  },
  {
   "cell_type": "code",
   "execution_count": 37,
   "metadata": {},
   "outputs": [],
   "source": [
    "train, test = \\\n",
    "    prepareDatase().get_train_test(\"../dataset/realEstate.csv\",False,0.7,False)"
   ]
  },
  {
   "cell_type": "code",
   "execution_count": 38,
   "metadata": {},
   "outputs": [
    {
     "name": "stdout",
     "output_type": "stream",
     "text": [
      "RMSE error my model:  43.6596795426\n"
     ]
    }
   ],
   "source": [
    "#my knn\n",
    "my_knn = KNN(type_=\"Regression\",K=5,distance_metric=\"Cosine-Similarity\")\n",
    "my_knn.fit(x_train,y_train)\n",
    "y_hat = my_knn.predict(x_test.iloc[:40])\n",
    "print (\"RMSE error my model: \",my_knn.test_(y_hat,y_test.iloc[:40],eval_measure=\"RMSE\"))"
   ]
  },
  {
   "cell_type": "code",
   "execution_count": 39,
   "metadata": {},
   "outputs": [
    {
     "name": "stdout",
     "output_type": "stream",
     "text": [
      "RMSE error sklearn model:  9.56396369713\n"
     ]
    }
   ],
   "source": [
    "#sklearn knn\n",
    "sk_knn = KNeighborsRegressor(n_neighbors=5)\n",
    "sk_knn.fit(x_train,y_train)\n",
    "y_hat = sk_knn.predict(x_test)\n",
    "print (\"RMSE error sklearn model: \",np.sqrt(mean_squared_error(y_hat,y_test)))"
   ]
  },
  {
   "cell_type": "code",
   "execution_count": 40,
   "metadata": {},
   "outputs": [],
   "source": [
    "crossVal = cross_validation(my_knn,[1,2,3,4,5,6,7,8,9,10],\"KNN\")\n",
    "crossVal.optim_hyperparam(5,train);"
   ]
  },
  {
   "cell_type": "code",
   "execution_count": 41,
   "metadata": {},
   "outputs": [
    {
     "data": {
      "text/html": [
       "<div>\n",
       "<style>\n",
       "    .dataframe thead tr:only-child th {\n",
       "        text-align: right;\n",
       "    }\n",
       "\n",
       "    .dataframe thead th {\n",
       "        text-align: left;\n",
       "    }\n",
       "\n",
       "    .dataframe tbody tr th {\n",
       "        vertical-align: top;\n",
       "    }\n",
       "</style>\n",
       "<table border=\"1\" class=\"dataframe\">\n",
       "  <thead>\n",
       "    <tr style=\"text-align: right;\">\n",
       "      <th></th>\n",
       "      <th>K</th>\n",
       "      <th>Train</th>\n",
       "      <th>Validation</th>\n",
       "      <th>Test</th>\n",
       "    </tr>\n",
       "  </thead>\n",
       "  <tbody>\n",
       "    <tr>\n",
       "      <th>fold-1</th>\n",
       "      <td>1</td>\n",
       "      <td>1499.973603</td>\n",
       "      <td>1512.434394</td>\n",
       "      <td>1499.973603</td>\n",
       "    </tr>\n",
       "    <tr>\n",
       "      <th>fold-2</th>\n",
       "      <td>1</td>\n",
       "      <td>1499.831550</td>\n",
       "      <td>1401.250451</td>\n",
       "      <td>1499.831550</td>\n",
       "    </tr>\n",
       "    <tr>\n",
       "      <th>fold-3</th>\n",
       "      <td>1</td>\n",
       "      <td>1499.831550</td>\n",
       "      <td>1563.232316</td>\n",
       "      <td>1499.831550</td>\n",
       "    </tr>\n",
       "    <tr>\n",
       "      <th>fold-4</th>\n",
       "      <td>1</td>\n",
       "      <td>1499.831550</td>\n",
       "      <td>1540.230964</td>\n",
       "      <td>1499.831550</td>\n",
       "    </tr>\n",
       "    <tr>\n",
       "      <th>fold-5</th>\n",
       "      <td>1</td>\n",
       "      <td>1499.831550</td>\n",
       "      <td>1482.277634</td>\n",
       "      <td>1499.831550</td>\n",
       "    </tr>\n",
       "  </tbody>\n",
       "</table>\n",
       "</div>"
      ],
      "text/plain": [
       "        K         Train   Validation         Test\n",
       "fold-1   1  1499.973603  1512.434394  1499.973603\n",
       "fold-2   1  1499.831550  1401.250451  1499.831550\n",
       "fold-3   1  1499.831550  1563.232316  1499.831550\n",
       "fold-4   1  1499.831550  1540.230964  1499.831550\n",
       "fold-5   1  1499.831550  1482.277634  1499.831550"
      ]
     },
     "execution_count": 41,
     "metadata": {},
     "output_type": "execute_result"
    }
   ],
   "source": [
    "res = crossVal.report_scores(train,test,5)\n",
    "p = [[res[i][0]]+list(res[i][1]) for i in range(len(res))]\n",
    "pd.DataFrame(p,columns=[\"K \",\"Train\",\"Validation\",\"Test\"],\\\n",
    "             index=[\"fold-1\",\"fold-2\",\"fold-3\",\"fold-4\",\"fold-5\"])"
   ]
  },
  {
   "cell_type": "markdown",
   "metadata": {},
   "source": [
    "### Normalizing the data"
   ]
  },
  {
   "cell_type": "code",
   "execution_count": 43,
   "metadata": {},
   "outputs": [],
   "source": [
    "x_train, y_train, x_test, y_test = \\\n",
    "    prepareDatase().get_train_test(\"../dataset/realEstate.csv\",True,0.7,True)"
   ]
  },
  {
   "cell_type": "code",
   "execution_count": 44,
   "metadata": {},
   "outputs": [],
   "source": [
    "train, test = \\\n",
    "    prepareDatase().get_train_test(\"../dataset/realEstate.csv\",True,0.7,False)"
   ]
  },
  {
   "cell_type": "code",
   "execution_count": 45,
   "metadata": {},
   "outputs": [
    {
     "name": "stdout",
     "output_type": "stream",
     "text": [
      "RMSE error my KNN model:  0.497822156509\n"
     ]
    }
   ],
   "source": [
    "my_knn = KNN(type_=\"Regression\",K=5,distance_metric=\"Cosine-Similarity\")\n",
    "my_knn.fit(x_train,y_train)\n",
    "y_hat = my_knn.predict(x_test.iloc[:40])\n",
    "print (\"RMSE error my KNN model: \",my_knn.test_(y_hat,y_test.iloc[:40],eval_measure=\"RMSE\"))"
   ]
  },
  {
   "cell_type": "code",
   "execution_count": 46,
   "metadata": {},
   "outputs": [
    {
     "name": "stdout",
     "output_type": "stream",
     "text": [
      "RMSE error for sklearn KNN model:  0.0597467145894\n"
     ]
    }
   ],
   "source": [
    "#SKlearn knn\n",
    "sk_knn = KNeighborsRegressor(n_neighbors=5)\n",
    "sk_knn.fit(x_train,y_train)\n",
    "y_hat = sk_knn.predict(x_test)\n",
    "print (\"RMSE error for sklearn KNN model: \",np.sqrt(mean_squared_error(y_hat,y_test)))"
   ]
  },
  {
   "cell_type": "code",
   "execution_count": 47,
   "metadata": {},
   "outputs": [],
   "source": [
    "crossVal = cross_validation(sk_knn,[1,2,3,4,5,6,7,8,9,10],\"KNN\")\n",
    "crossVal.optim_hyperparam(5,train);"
   ]
  },
  {
   "cell_type": "code",
   "execution_count": 48,
   "metadata": {},
   "outputs": [
    {
     "data": {
      "text/html": [
       "<div>\n",
       "<style>\n",
       "    .dataframe thead tr:only-child th {\n",
       "        text-align: right;\n",
       "    }\n",
       "\n",
       "    .dataframe thead th {\n",
       "        text-align: left;\n",
       "    }\n",
       "\n",
       "    .dataframe tbody tr th {\n",
       "        vertical-align: top;\n",
       "    }\n",
       "</style>\n",
       "<table border=\"1\" class=\"dataframe\">\n",
       "  <thead>\n",
       "    <tr style=\"text-align: right;\">\n",
       "      <th></th>\n",
       "      <th>K</th>\n",
       "      <th>Train</th>\n",
       "      <th>Validation</th>\n",
       "      <th>Test</th>\n",
       "    </tr>\n",
       "  </thead>\n",
       "  <tbody>\n",
       "    <tr>\n",
       "      <th>fold-1</th>\n",
       "      <td>5</td>\n",
       "      <td>0.004068</td>\n",
       "      <td>0.005050</td>\n",
       "      <td>0.004068</td>\n",
       "    </tr>\n",
       "    <tr>\n",
       "      <th>fold-2</th>\n",
       "      <td>7</td>\n",
       "      <td>0.004288</td>\n",
       "      <td>0.004484</td>\n",
       "      <td>0.004288</td>\n",
       "    </tr>\n",
       "    <tr>\n",
       "      <th>fold-3</th>\n",
       "      <td>7</td>\n",
       "      <td>0.004404</td>\n",
       "      <td>0.007648</td>\n",
       "      <td>0.004404</td>\n",
       "    </tr>\n",
       "    <tr>\n",
       "      <th>fold-4</th>\n",
       "      <td>6</td>\n",
       "      <td>0.004172</td>\n",
       "      <td>0.002674</td>\n",
       "      <td>0.004172</td>\n",
       "    </tr>\n",
       "    <tr>\n",
       "      <th>fold-5</th>\n",
       "      <td>10</td>\n",
       "      <td>0.004663</td>\n",
       "      <td>0.005862</td>\n",
       "      <td>0.004663</td>\n",
       "    </tr>\n",
       "  </tbody>\n",
       "</table>\n",
       "</div>"
      ],
      "text/plain": [
       "        K      Train  Validation      Test\n",
       "fold-1   5  0.004068    0.005050  0.004068\n",
       "fold-2   7  0.004288    0.004484  0.004288\n",
       "fold-3   7  0.004404    0.007648  0.004404\n",
       "fold-4   6  0.004172    0.002674  0.004172\n",
       "fold-5  10  0.004663    0.005862  0.004663"
      ]
     },
     "execution_count": 48,
     "metadata": {},
     "output_type": "execute_result"
    }
   ],
   "source": [
    "res = crossVal.report_scores(train,test,5)\n",
    "p = [[res[i][0]]+list(res[i][1]) for i in range(len(res))]\n",
    "pd.DataFrame(p,columns=[\"K \",\"Train\",\"Validation\",\"Test\"],\\\n",
    "             index=[\"fold-1\",\"fold-2\",\"fold-3\",\"fold-4\",\"fold-5\"])"
   ]
  },
  {
   "cell_type": "markdown",
   "metadata": {},
   "source": [
    "The features are not on the same scale. Which means feature at different scale are given different importatnce depending on there scale used. This model becomes biased to the feature that has a values that vary on the larger scale. This add bias to our model. While when scale all the features to the same scale the importance given to each of the featue becomes the same. The biases towards some features reduces on normalization."
   ]
  },
  {
   "cell_type": "markdown",
   "metadata": {},
   "source": [
    "### Below Single fold (train on first 80% data and last 20% as test data) and plot train, test error as a function of K "
   ]
  },
  {
   "cell_type": "code",
   "execution_count": 49,
   "metadata": {},
   "outputs": [],
   "source": [
    "k_values = np.arange(1,40)"
   ]
  },
  {
   "cell_type": "code",
   "execution_count": 50,
   "metadata": {},
   "outputs": [],
   "source": [
    "#data = pd.DataFrame('realEstate.xlsx')\n",
    "fold0 = cross_validation()._splt_datst(5,train)[0]  #get the fold-0\n",
    "def plot_for_ks(test,train,k_lst):\n",
    "    my_knn = KNeighborsRegressor()\n",
    "    train_error= []\n",
    "    for i in k_values:\n",
    "        my_knn.n_neighbors = i\n",
    "        my_knn.fit(train[train.columns[:-1]],train[[train.columns[-1]]])\n",
    "        y_hat = my_knn.predict(test[test.columns[:-1]])\n",
    "        train_error.append(mean_squared_error(y_hat,test[test.columns[-1]]))\n",
    "    plt.scatter(np.arange(len(train_error)),train_error)\n",
    "    plt.xlabel(\"K\")"
   ]
  },
  {
   "cell_type": "code",
   "execution_count": 51,
   "metadata": {},
   "outputs": [],
   "source": [
    "#split the fold0 into 80:20 train:test dataset\n",
    "train_, test_ = prepareDatase().splitInto_test_train(fold0,0.8)"
   ]
  },
  {
   "cell_type": "markdown",
   "metadata": {},
   "source": [
    "### Train error"
   ]
  },
  {
   "cell_type": "code",
   "execution_count": 52,
   "metadata": {},
   "outputs": [
    {
     "data": {
      "image/png": "[encoded data removed]",
      "text/plain": [
       "<matplotlib.figure.Figure at 0x7f3c14117c50>"
      ]
     },
     "metadata": {
      "needs_background": "light"
     },
     "output_type": "display_data"
    }
   ],
   "source": [
    "plot_for_ks(train_,train_,k_values)\n",
    "plt.ylabel(\"RMSE\");\n",
    "plt.title(\"K vs RMSE on Train set of fold0\");"
   ]
  },
  {
   "cell_type": "markdown",
   "metadata": {},
   "source": [
    "The training curve increases monotonically. The reason is the  following: <br>\n",
    "- Inially the model just returns the value corresponing y for the current datapoint, but when we increas the value of k we deviate from the corresponding y. We are taking the mean of all the k neareset points. This lead to wrong prediciton of corresponding y( may not be the case if all y's are same)."
   ]
  },
  {
   "cell_type": "markdown",
   "metadata": {},
   "source": [
    "## Test Error"
   ]
  },
  {
   "cell_type": "code",
   "execution_count": 53,
   "metadata": {
    "scrolled": true
   },
   "outputs": [
    {
     "data": {
      "image/png": "[encoded data removed]",
      "text/plain": [
       "<matplotlib.figure.Figure at 0x7f3c141122b0>"
      ]
     },
     "metadata": {
      "needs_background": "light"
     },
     "output_type": "display_data"
    }
   ],
   "source": [
    "plot_for_ks(test_,train_,k_values)\n",
    "plt.ylabel(\"RMSE\")\n",
    "plt.title(\"K vs RMSE on Test set of fold0\");"
   ]
  },
  {
   "cell_type": "markdown",
   "metadata": {},
   "source": [
    "The rmse of  test dataset first decreases and then increases. The reason is following: <br>\n",
    "- The RMSE first decreases and then increases. The model is initially  ***overfitted*** and then at the minimum rmse it attains a model configuration where it can generalize well. After further increases in ***k*** the rmse monotonically increases which shows that the model is **underfitted** at higer value of ***k***."
   ]
  },
  {
   "cell_type": "code",
   "execution_count": null,
   "metadata": {},
   "outputs": [],
   "source": []
  }
 ],
 "metadata": {
  "kernelspec": {
   "display_name": "Python 3",
   "language": "python",
   "name": "python3"
  },
  "language_info": {
   "codemirror_mode": {
    "name": "ipython",
    "version": 3
   },
   "file_extension": ".py",
   "mimetype": "text/x-python",
   "name": "python",
   "nbconvert_exporter": "python",
   "pygments_lexer": "ipython3",
   "version": "3.6.7"
  }
 },
 "nbformat": 4,
 "nbformat_minor": 2
}
