{
 "cells": [
  {
   "cell_type": "markdown",
   "metadata": {},
   "source": [
    "### The notebook compares the accuracy of my Gaussian Naive Bayes implementation and the Sklearn Gaussian Naive Bayes implemention over the Iris dataset"
   ]
  },
  {
   "cell_type": "code",
   "execution_count": 13,
   "metadata": {},
   "outputs": [
    {
     "name": "stdout",
     "output_type": "stream",
     "text": [
      "The autoreload extension is already loaded. To reload it, use:\n",
      "  %reload_ext autoreload\n"
     ]
    }
   ],
   "source": [
    "%load_ext autoreload\n",
    "%autoreload 2\n",
    "import numpy as np\n",
    "import sys\n",
    "sys.path.append(\"..\")\n",
    "sys.path.append(\"../my_implmnt\")\n",
    "import matplotlib.pyplot as plt\n",
    "import pandas as pd\n",
    "from utils import prepareDatase,accuracy\n",
    "from sklearn.utils import shuffle\n",
    "from Gaussian_NaiveBayes import GaussianNaiveBayes\n"
   ]
  },
  {
   "cell_type": "code",
   "execution_count": 3,
   "metadata": {},
   "outputs": [],
   "source": [
    "\n",
    "da = shuffle(\\\n",
    "        pd.read_csv('/home/ac-optimus/ml_assignments/iris.csv'))\n",
    "data1 = prepareDatase().noramilize_theDatst(da[da.columns[:-1]])\n",
    "data1 = data1.join(da[[da.columns[-1]]])\n",
    "train, test =prepareDatase().splitInto_test_train(data1,0.7)\n"
   ]
  },
  {
   "cell_type": "code",
   "execution_count": 4,
   "metadata": {},
   "outputs": [
    {
     "data": {
      "text/plain": [
       "{'setosa': 0.32380952380952382,\n",
       " 'versicolor': 0.3619047619047619,\n",
       " 'virginica': 0.31428571428571428}"
      ]
     },
     "execution_count": 4,
     "metadata": {},
     "output_type": "execute_result"
    }
   ],
   "source": [
    "x_train, y_train  = \\\n",
    "        train[[\"sepal_length\",\"petal_width\"]], train[train.columns[-1]]\n",
    "x_test, y_test = \\\n",
    "        test[[\"sepal_length\",\"petal_width\"]], test[test.columns[-1]]\n",
    "my_GNB = GaussianNaiveBayes()\n",
    "my_GNB.fit(x_train,y_train)\n",
    "my_GNB.classProb"
   ]
  },
  {
   "cell_type": "code",
   "execution_count": 5,
   "metadata": {},
   "outputs": [],
   "source": [
    "l  = my_GNB.predict(x_test)"
   ]
  },
  {
   "cell_type": "code",
   "execution_count": 6,
   "metadata": {},
   "outputs": [
    {
     "name": "stdout",
     "output_type": "stream",
     "text": [
      "Accuracy for my Gaussian Naive Bayes:  0.9777777777777777\n"
     ]
    }
   ],
   "source": [
    "ac = accuracy(l,y_test.tolist())\n",
    "print (\"Accuracy for my Gaussian Naive Bayes: \",ac)"
   ]
  },
  {
   "cell_type": "code",
   "execution_count": 7,
   "metadata": {},
   "outputs": [
    {
     "name": "stdout",
     "output_type": "stream",
     "text": [
      "Accuracy for my Gaussian Naive Bayes:  0.9777777777777777\n"
     ]
    }
   ],
   "source": [
    "from sklearn.naive_bayes import GaussianNB\n",
    "\n",
    "clf = GaussianNB()\n",
    "clf.fit(x_train, y_train)\n",
    "\n",
    "y_hat = clf.predict(x_test)\n",
    "ac_ = accuracy(y_hat,y_test.tolist())\n",
    "print (\"Accuracy for my Gaussian Naive Bayes: \",ac_)"
   ]
  }
 ],
 "metadata": {
  "kernelspec": {
   "display_name": "Python 3",
   "language": "python",
   "name": "python3"
  },
  "language_info": {
   "codemirror_mode": {
    "name": "ipython",
    "version": 3
   },
   "file_extension": ".py",
   "mimetype": "text/x-python",
   "name": "python",
   "nbconvert_exporter": "python",
   "pygments_lexer": "ipython3",
   "version": "3.6.7"
  }
 },
 "nbformat": 4,
 "nbformat_minor": 2
}
